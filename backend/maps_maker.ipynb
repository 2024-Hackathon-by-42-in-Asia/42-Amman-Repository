{
 "cells": [
  {
   "cell_type": "code",
   "execution_count": 11,
   "metadata": {},
   "outputs": [],
   "source": [
    "import requests\n",
    "from requests.structures import CaseInsensitiveDict\n",
    "import folium\n",
    "from typing import Literal\n",
    "\n",
    "API_KEY = \"25fa34886b044263aa56dcc148c94abc\"\n",
    "BASE_URL = \"https://api.geoapify.com/v1/routing\"\n",
    "\n",
    "ENGINE_TYPES = Literal[\"petrol\", \"diesel\", \"electric\", \"hybrid\"]"
   ]
  },
  {
   "cell_type": "code",
   "execution_count": 12,
   "metadata": {},
   "outputs": [],
   "source": [
    "\n",
    "def get_optimized_route(waypoints, vehicle_type=\"drive\"):\n",
    "    waypoints_str = \"%7C\".join([f\"{lat},{lon}\" for lat, lon in waypoints])\n",
    "    url = f\"{BASE_URL}?waypoints={waypoints_str}&mode={vehicle_type}&optimize=true&apiKey={API_KEY}\"\n",
    "    headers = CaseInsensitiveDict()\n",
    "    headers[\"Accept\"] = \"application/json\"\n",
    "    response = requests.get(url, headers=headers)\n",
    "    if response.status_code == 200:\n",
    "        data = response.json()\n",
    "        features = data.get('features', [])\n",
    "        if features:\n",
    "            route = features[0].get('properties', {})\n",
    "            distance = route.get('distance', 0)  # In meters\n",
    "            geometry = features[0].get('geometry', {}).get('coordinates', [])\n",
    "            return distance / 1000, geometry  # Convert to kilometers and return geometry\n",
    "        else:\n",
    "            print(\"No route found.\")\n",
    "            return 0, None\n",
    "    else:\n",
    "        print(f\"Error: {response.status_code}\")\n",
    "        return 0, None"
   ]
  },
  {
   "cell_type": "code",
   "execution_count": 13,
   "metadata": {},
   "outputs": [],
   "source": [
    "\n",
    "def calculate_emissions(engine_type:ENGINE_TYPES, fuel_efficiency, distance):\n",
    "    fuel_consumed = fuel_efficiency * distance\n",
    "    emissions = 0.0\n",
    "    if engine_type == \"petrol\":\n",
    "        emissions = 2.31 * fuel_consumed\n",
    "    elif engine_type == \"diesel\":\n",
    "        emissions = 2.68 * fuel_consumed\n",
    "    elif engine_type == \"electric\":\n",
    "        emissions = 0.2 * (fuel_consumed / 1000)\n",
    "    elif engine_type == \"hybrid\":\n",
    "        petrol_usage = fuel_consumed * 0.5\n",
    "        electric_usage = fuel_consumed * 0.5\n",
    "        emissions = (2.31 * petrol_usage) + (0.2 * electric_usage / 1000)\n",
    "    else:\n",
    "        print(\"Invalid engine type.\")\n",
    "        return None\n",
    "    return emissions"
   ]
  },
  {
   "cell_type": "code",
   "execution_count": 14,
   "metadata": {},
   "outputs": [],
   "source": [
    "\n",
    "def calculate_shared_delivery_emissions(driver_location, restaurants, customers, engine_type:ENGINE_TYPES, fuel_efficiency):\n",
    "    waypoints = [driver_location] + restaurants + customers\n",
    "    distance, geometry = get_optimized_route(waypoints, vehicle_type=\"drive\")\n",
    "    if distance:\n",
    "        emissions = calculate_emissions(engine_type, fuel_efficiency, distance)\n",
    "        return emissions, geometry\n",
    "    else:\n",
    "        return 0, None"
   ]
  },
  {
   "cell_type": "code",
   "execution_count": 15,
   "metadata": {},
   "outputs": [],
   "source": [
    "\n",
    "def flatten_geometry(geometry):\n",
    "    # Flatten nested structures in geometry, if applicable\n",
    "    flat_coords = []\n",
    "    for coord in geometry:\n",
    "        if isinstance(coord[0], list):\n",
    "            for sub_coord in coord:\n",
    "                flat_coords.append(sub_coord)\n",
    "        else:\n",
    "            flat_coords.append(coord)\n",
    "    return flat_coords\n"
   ]
  },
  {
   "cell_type": "code",
   "execution_count": 19,
   "metadata": {},
   "outputs": [],
   "source": [
    "\n",
    "def plot_route_on_map(geometry, waypoints):\n",
    "    # Create a map centered around the driver's location\n",
    "    route_map = folium.Map(location=waypoints[0], zoom_start=13)\n",
    "    \n",
    "    # Add waypoints to the map\n",
    "    for lat, lon in waypoints:\n",
    "        folium.Marker(location=[lat, lon]).add_to(route_map)\n",
    "    \n",
    "    # Flatten the geometry and plot the route\n",
    "    if geometry:\n",
    "        flat_geometry = flatten_geometry(geometry)\n",
    "        folium.PolyLine(locations=[[lat, lon] for lon, lat in flat_geometry], color=\"blue\", weight=2.5).add_to(route_map)\n",
    "    \n",
    "    # Save map as an HTML file\n",
    "    route_map.save(\"maps/route_map.html\")"
   ]
  },
  {
   "cell_type": "code",
   "execution_count": 22,
   "metadata": {},
   "outputs": [
    {
     "name": "stdout",
     "output_type": "stream",
     "text": [
      "Total CO2 Emissions for shared delivery: 1.47 kg\n"
     ]
    }
   ],
   "source": [
    "# Example usage\n",
    "driver_location = (1.423206, 103.838137)\n",
    "restaurants = [\n",
    "    (1.428627, 103.835870),\n",
    "    (1.428860, 103.835901)\n",
    "]\n",
    "customers = [\n",
    "    (1.434898, 103.836053),\n",
    "    (1.429243, 103.828417)\n",
    "]\n",
    "engine_type:ENGINE_TYPES = \"diesel\"\n",
    "fuel_efficiency = 0.07\n",
    "\n",
    "total_emissions, geometry = calculate_shared_delivery_emissions(driver_location, restaurants, customers, engine_type, fuel_efficiency)\n",
    "\n",
    "if total_emissions:\n",
    "    print(f\"Total CO2 Emissions for shared delivery: {total_emissions:.2f} kg\")\n",
    "    \n",
    "    # Plot the route on a map\n",
    "    waypoints = [driver_location] + restaurants + customers\n",
    "    plot_route_on_map(geometry, waypoints)"
   ]
  },
  {
   "cell_type": "code",
   "execution_count": null,
   "metadata": {},
   "outputs": [],
   "source": []
  }
 ],
 "metadata": {
  "kernelspec": {
   "display_name": "Python 3",
   "language": "python",
   "name": "python3"
  },
  "language_info": {
   "codemirror_mode": {
    "name": "ipython",
    "version": 3
   },
   "file_extension": ".py",
   "mimetype": "text/x-python",
   "name": "python",
   "nbconvert_exporter": "python",
   "pygments_lexer": "ipython3",
   "version": "3.11.9"
  }
 },
 "nbformat": 4,
 "nbformat_minor": 2
}
